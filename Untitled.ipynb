{
 "cells": [
  {
   "cell_type": "code",
   "execution_count": 4,
   "id": "744f70b2-c724-455d-bde0-6a57b557777a",
   "metadata": {},
   "outputs": [],
   "source": [
    "import requests\n",
    "from bs4 import BeautifulSoup"
   ]
  },
  {
   "cell_type": "code",
   "execution_count": null,
   "id": "b9254fc0-1b1e-46c7-a6a3-d1231dd1f219",
   "metadata": {},
   "outputs": [],
   "source": [
    "headers = {'User-Agent': 'Mozilla/5.0 (Windows NT 6.1; WOW64) AppleWebKit/537.36 (KHTML, like Gecko) Chrome/56.0.2924.76 Safari/537.36', \"Upgrade-Insecure-Requests\": \"1\",\"DNT\": \"1\",\"Accept\": \"text/html,application/xhtml+xml,application/xml;q=0.9,*/*;q=0.8\",\"Accept-Language\": \"en-US,en;q=0.5\",\"Accept-Encoding\": \"gzip, deflate\"}"
   ]
  },
  {
   "cell_type": "code",
   "execution_count": 15,
   "id": "22a73d30-ec7f-4d67-a034-1bf8937a12c6",
   "metadata": {},
   "outputs": [],
   "source": [
    "coupang_search = 'https://www.coupang.com/np/search?component=&q={query}'"
   ]
  },
  {
   "cell_type": "code",
   "execution_count": 18,
   "id": "a2d2f187-0b85-42e0-a0ad-ba67bba28663",
   "metadata": {},
   "outputs": [],
   "source": [
    "query='manyo'"
   ]
  },
  {
   "cell_type": "code",
   "execution_count": 19,
   "id": "ff1b889c-10ba-4dd3-9b66-97dee8b49afe",
   "metadata": {},
   "outputs": [],
   "source": [
    "request = requests.get(coupang_search.format(query=query), headers=headers)"
   ]
  },
  {
   "cell_type": "code",
   "execution_count": null,
   "id": "79c59466-33c5-4a7c-a3c1-6f64ee0249ae",
   "metadata": {},
   "outputs": [],
   "source": [
    "request"
   ]
  },
  {
   "cell_type": "code",
   "execution_count": 25,
   "id": "478fb896-fedf-4e20-a903-16dfd6e7c340",
   "metadata": {},
   "outputs": [],
   "source": [
    "document = BeautifulSoup(request.content, 'html.parser')"
   ]
  },
  {
   "cell_type": "code",
   "execution_count": 29,
   "id": "29808786-f736-4b14-b50d-a61e45ff9076",
   "metadata": {},
   "outputs": [
    {
     "name": "stdout",
     "output_type": "stream",
     "text": [
      "화장품명: 마녀공장 비피다 앰플 40ml x 2p + 아쿠아 베리어 크림 50ml 세트, 1세트 / 상품가격: 39,500내일(수) 9/21   도착 보장\n",
      "화장품명: 마녀공장 퓨어 앤 딥 클렌징폼, 100ml, 3개 / 상품가격: 15,800내일(수) 9/21   도착 보장\n",
      "화장품명: 마녀공장 비피다 앰플 40ml x 2p + 아쿠아 베리어 크림 50ml 세트, 1세트 / 상품가격: 39,500내일(수) 9/21   도착 보장\n",
      "화장품명: 마녀공장 블랙헤드 앤 포어 클렌징 오일 145ml + 포어크림 30ml + 킬패드 3p 세트, 1세트 / 상품가격: 14,500내일(수) 9/21   도착 보장\n",
      "화장품명: 마녀공장 비피다 바이옴 컨센트레이트 크림, 50ml, 1개 / 상품가격: 21,000내일(수) 9/21   도착 보장\n",
      "화장품명: 마녀공장 퓨어 클렌징 오일 250ml + 딥 클렌징 폼 100ml 세트, 1세트 / 상품가격: 25,500내일(수) 9/21   도착 보장\n",
      "화장품명: 마녀공장 갈락토미 나이아신 에센스, 40ml, 1개 / 상품가격: 19,000내일(수) 9/21   도착 보장\n",
      "화장품명: 마녀공장 비피다 바이옴 앰플 토너 210ml x 2p + 100ml 세트, 1세트 / 상품가격: 25,500내일(수) 9/21   도착 보장\n",
      "화장품명: 마녀공장 갈락토미 에센스 크림, 50ml, 1개 / 상품가격: 20,580내일(수) 9/21   도착 보장\n",
      "화장품명: 마녀공장 퓨어 클렌징 오일 250ml + 딥 클렌징 폼 100ml 세트, 1세트 / 상품가격: 25,500내일(수) 9/21   도착 보장\n",
      "화장품명: 마녀공장 갈락토미 나이아신 에센스, 40ml, 1개 / 상품가격: 19,000내일(수) 9/21   도착 보장\n",
      "화장품명: 마녀공장 비피다 바이옴 아쿠아 베리어 크림, 80ml, 1개 / 상품가격: 13,880내일(수) 9/21   도착 보장\n",
      "화장품명: 마녀공장 비피다 바이옴 앰플 토너, 500ml, 1개 / 상품가격: 21,500내일(수) 9/21   도착 보장\n",
      "화장품명: 마녀공장 비피다 바이옴 앰플 토너, 500ml, 1개 / 상품가격: 21,500내일(수) 9/21   도착 보장\n",
      "화장품명: 마녀공장 퓨어 클렌징 오일, 250ml, 1개 / 상품가격: 18,950내일(수) 9/21   도착 보장\n",
      "화장품명: 마녀공장 허브 클렌징 오일, 200ml, 1개 / 상품가격: 12,250내일(수) 9/21   도착 보장\n",
      "화장품명: 마녀공장 비피다 콤플렉스 앰플, 1개, 40ml / 상품가격: 22,500내일(수) 9/21   도착 보장\n",
      "화장품명: 마녀공장 비피다 바이옴 컨센트레이트 크림, 50ml, 1개 / 상품가격: 21,000내일(수) 9/21   도착 보장\n",
      "화장품명: 마녀공장 비피다 바이옴 앰플 토너, 500ml, 1개 / 상품가격: 21,500내일(수) 9/21   도착 보장\n",
      "화장품명: 마녀공장 아워 어성초 시카 크림, 100ml, 1개 / 상품가격: 18,900내일(수) 9/21   도착 보장\n",
      "화장품명: 마녀공장 비피다 바이옴 콤플렉스 앰플, 40ml, 1개 / 상품가격: 21,800내일(수) 9/21   도착 보장\n",
      "화장품명: 마녀공장 히알루론 화이트닝 아이세럼, 20ml, 3개 / 상품가격: 15,800내일(수) 9/21   도착 보장\n",
      "화장품명: 마녀공장 비피다 바이옴 앰플 마스크, 1개입, 10개 / 상품가격: 14,000내일(수) 9/21   도착 보장\n",
      "화장품명: 마녀공장 갈락 화이트닝 비타 세럼, 50ml, 1개 / 상품가격: 17,440내일(수) 9/21   도착 보장\n",
      "화장품명: 마녀공장 소다 클렌징 폼, 150ml, 1개 / 상품가격: 9,430내일(수) 9/21   도착 보장\n",
      "화장품명: 마녀공장 비피다 바이옴 앰플 토너, 210ml, 1개 / 상품가격: 10,690내일(수) 9/21   도착 보장\n",
      "화장품명: 마녀공장 갈락토미 나이아신 에센스, 40ml, 2개 / 상품가격: 37,800내일(수) 9/21   도착 보장\n",
      "화장품명: 마녀공장 갈락토미 에센스 크림, 50ml, 1개 / 상품가격: 20,580내일(수) 9/21   도착 보장\n",
      "화장품명: 마녀공장 비피다 시카 허브 토너, 1개, 210ml / 상품가격: 11,860내일(수) 9/21   도착 보장\n",
      "화장품명: 마녀공장 갈락 나이아신 2.0 에센스, 40ml, 1개 / 상품가격: 19,000내일(수) 9/21   도착 보장\n",
      "화장품명: 마녀공장 퓨어 엔자임 클렌징 워터, 400ml, 1개 / 상품가격: 8,720내일(수) 9/21   도착 보장\n",
      "화장품명: 마녀공장 퓨어 클렌징 오일, 250ml, 1개 / 상품가격: 18,950내일(수) 9/21   도착 보장\n",
      "화장품명: 마녀공장 떼르말 워터 크림, 80ml, 1개 / 상품가격: 15,900내일(수) 9/21   도착 보장\n",
      "화장품명: 마녀공장 블랙헤드 앤 포어 토너, 210ml, 1개 / 상품가격: 13,500내일(수) 9/21   도착 보장\n",
      "화장품명: 마녀공장 갈락토미 클리어스킨 토너, 210ml, 1개 / 상품가격: 14,490내일(수) 9/21   도착 보장\n",
      "화장품명: 마녀공장 갈락토미 엔자임 필링젤, 75ml, 1개 / 상품가격: 7,130내일(수) 9/21   도착 보장\n",
      "화장품명: 마녀공장 퓨어 앤 딥 클렌징폼, 200ml, 1개 / 상품가격: 10,900내일(수) 9/21   도착 보장\n",
      "화장품명: 마녀공장 퓨어 엔자임 클렌징 워터 210ml x 2p + 100ml 세트, 1세트 / 상품가격: 14,800내일(수) 9/21   도착 보장\n",
      "화장품명: 마녀공장 블랙헤드 퓨어 클렌징 오일 킬패드, 50개입, 1개 / 상품가격: 11,760내일(수) 9/21   도착 보장\n",
      "화장품명: 마녀공장 허브 클렌징 오일, 200ml, 1개 / 상품가격: 12,250내일(수) 9/21   도착 보장\n"
     ]
    }
   ],
   "source": [
    "div = soup_obj.findAll(\"div\", {\"class\": \"name\"})\n",
    "lis = soup_obj.find(\"ul\", {\"id\": \"productList\"}).findAll(\"li\")\n",
    "\n",
    "for li in lis:\n",
    "    product = li.find(\"div\", {\"class\": \"name\"})\n",
    "    price = li.find(\"em\", {\"class\": \"sale\"}).find(\n",
    "        \"strong\", {\"class\": \"price-value\"}\n",
    "    )\n",
    "    delivery = li.find(\"span\", {\"class\": \"arrival-info\"})\n",
    "    print(\"화장품명: \" + product.text.strip() + \" / \" + \"상품가격: \" + price.text.strip() + delivery.text.strip())"
   ]
  },
  {
   "cell_type": "code",
   "execution_count": 26,
   "id": "5e1d7a59-6751-4e6e-8550-32a4c7c3b59b",
   "metadata": {},
   "outputs": [],
   "source": [
    "from googletrans import Translator\n",
    "translator = Translator(service_urls=[\n",
    "      'translate.google.co.kr'])\n",
    "translation = translator.translate('마녀공장 퓨어 클렌징 오일', src='ko', dest='en')"
   ]
  },
  {
   "cell_type": "code",
   "execution_count": 27,
   "id": "0deaacc4-f954-449d-8cf2-4ef9b00382ad",
   "metadata": {},
   "outputs": [
    {
     "data": {
      "text/plain": [
       "'Witch Factory Pure Cleansing Oil'"
      ]
     },
     "execution_count": 27,
     "metadata": {},
     "output_type": "execute_result"
    }
   ],
   "source": [
    "translation.text"
   ]
  },
  {
   "cell_type": "code",
   "execution_count": 23,
   "id": "d4ce2b54-c2a7-4ac2-9708-170b185d2d60",
   "metadata": {},
   "outputs": [
    {
     "ename": "TypeError",
     "evalue": "__init__() missing 2 required positional arguments: 'client_id' and 'client_secret'",
     "output_type": "error",
     "traceback": [
      "\u001b[0;31m---------------------------------------------------------------------------\u001b[0m",
      "\u001b[0;31mTypeError\u001b[0m                                 Traceback (most recent call last)",
      "\u001b[0;32m<ipython-input-23-d00669ff5f62>\u001b[0m in \u001b[0;36m<module>\u001b[0;34m\u001b[0m\n\u001b[1;32m      1\u001b[0m \u001b[0;32mfrom\u001b[0m \u001b[0mpapago\u001b[0m \u001b[0;32mimport\u001b[0m \u001b[0mTranslator\u001b[0m\u001b[0;34m\u001b[0m\u001b[0;34m\u001b[0m\u001b[0m\n\u001b[0;32m----> 2\u001b[0;31m \u001b[0mtranslator\u001b[0m \u001b[0;34m=\u001b[0m \u001b[0mTranslator\u001b[0m\u001b[0;34m(\u001b[0m\u001b[0;34m)\u001b[0m\u001b[0;34m\u001b[0m\u001b[0;34m\u001b[0m\u001b[0m\n\u001b[0m\u001b[1;32m      3\u001b[0m \u001b[0mresponse\u001b[0m \u001b[0;34m=\u001b[0m \u001b[0mtranslator\u001b[0m\u001b[0;34m.\u001b[0m\u001b[0mtranslate\u001b[0m\u001b[0;34m(\u001b[0m\u001b[0;34m'안녕하세요'\u001b[0m\u001b[0;34m)\u001b[0m\u001b[0;34m\u001b[0m\u001b[0;34m\u001b[0m\u001b[0m\n\u001b[1;32m      4\u001b[0m \u001b[0mresponse\u001b[0m \u001b[0;34m=\u001b[0m \u001b[0mtranslator\u001b[0m\u001b[0;34m.\u001b[0m\u001b[0mtranslate\u001b[0m\u001b[0;34m(\u001b[0m\u001b[0;34m'안녕하세요'\u001b[0m\u001b[0;34m,\u001b[0m \u001b[0;34m'ko'\u001b[0m\u001b[0;34m,\u001b[0m \u001b[0;34m'en'\u001b[0m\u001b[0;34m)\u001b[0m\u001b[0;34m\u001b[0m\u001b[0;34m\u001b[0m\u001b[0m\n\u001b[1;32m      5\u001b[0m \u001b[0mprint\u001b[0m\u001b[0;34m(\u001b[0m\u001b[0mresponse\u001b[0m\u001b[0;34m)\u001b[0m\u001b[0;34m\u001b[0m\u001b[0;34m\u001b[0m\u001b[0m\n",
      "\u001b[0;31mTypeError\u001b[0m: __init__() missing 2 required positional arguments: 'client_id' and 'client_secret'"
     ]
    }
   ],
   "source": [
    "from papago import Translator\n",
    "translator = Translator()\n",
    "response = translator.translate('안녕하세요')\n",
    "response = translator.translate('안녕하세요', 'ko', 'en')\n",
    "print(response)"
   ]
  },
  {
   "cell_type": "code",
   "execution_count": 12,
   "id": "e3cd7fd7-beaf-4e2f-a521-5e6ce1a7b1d0",
   "metadata": {},
   "outputs": [],
   "source": [
    "import sqlite3"
   ]
  },
  {
   "cell_type": "code",
   "execution_count": 13,
   "id": "5fd454dc-3def-4297-80e6-37ba66aaa291",
   "metadata": {},
   "outputs": [],
   "source": [
    "conn = sqlite3.connect('slm.db')"
   ]
  },
  {
   "cell_type": "code",
   "execution_count": 14,
   "id": "08c0fed7-e967-4c3c-8b7c-da05bf598229",
   "metadata": {},
   "outputs": [
    {
     "data": {
      "text/plain": [
       "<sqlite3.Connection at 0x7fdbbe272a80>"
      ]
     },
     "execution_count": 14,
     "metadata": {},
     "output_type": "execute_result"
    }
   ],
   "source": [
    "conn"
   ]
  },
  {
   "cell_type": "code",
   "execution_count": 17,
   "id": "d590e25e-4c32-49be-9ead-87299953db56",
   "metadata": {},
   "outputs": [],
   "source": [
    "res = conn.execute(\"SELECT * FROM sqlite_master WHERE type='table'\")"
   ]
  },
  {
   "cell_type": "code",
   "execution_count": 18,
   "id": "76ae8b0f-aa33-479c-b799-1f405aed8fd2",
   "metadata": {},
   "outputs": [
    {
     "data": {
      "text/plain": [
       "[]"
      ]
     },
     "execution_count": 18,
     "metadata": {},
     "output_type": "execute_result"
    }
   ],
   "source": [
    "res.fetchall()"
   ]
  },
  {
   "cell_type": "code",
   "execution_count": null,
   "id": "9828a5ec-8a12-4f85-9472-ab65ad06bf7b",
   "metadata": {},
   "outputs": [],
   "source": []
  }
 ],
 "metadata": {
  "kernelspec": {
   "display_name": "Python 3",
   "language": "python",
   "name": "python3"
  },
  "language_info": {
   "codemirror_mode": {
    "name": "ipython",
    "version": 3
   },
   "file_extension": ".py",
   "mimetype": "text/x-python",
   "name": "python",
   "nbconvert_exporter": "python",
   "pygments_lexer": "ipython3",
   "version": "3.9.7"
  }
 },
 "nbformat": 4,
 "nbformat_minor": 5
}

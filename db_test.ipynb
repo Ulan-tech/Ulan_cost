{
 "cells": [
  {
   "cell_type": "code",
   "execution_count": 1,
   "id": "c0f7911a-0ebb-494e-a897-18b5741b6a19",
   "metadata": {},
   "outputs": [],
   "source": [
    "import sqlite3"
   ]
  },
  {
   "cell_type": "code",
   "execution_count": 2,
   "id": "3bdcc7ef-eef3-49e8-bcbc-d1edfadb65c5",
   "metadata": {},
   "outputs": [],
   "source": [
    "conn = sqlite3.connect('slm.db')"
   ]
  },
  {
   "cell_type": "code",
   "execution_count": 6,
   "id": "fe3d45b3-1f61-4cc3-a069-b0784e15c38f",
   "metadata": {},
   "outputs": [],
   "source": [
    "cur = conn.cursor()"
   ]
  },
  {
   "cell_type": "code",
   "execution_count": 7,
   "id": "84240591-64c5-44a8-8142-f0eae98d8baf",
   "metadata": {},
   "outputs": [],
   "source": [
    "res = cur.execute('select * from parts')"
   ]
  },
  {
   "cell_type": "code",
   "execution_count": 9,
   "id": "05a885f0-6baa-4a23-a508-62afb17e684b",
   "metadata": {},
   "outputs": [
    {
     "data": {
      "text/plain": [
       "[]"
      ]
     },
     "execution_count": 9,
     "metadata": {},
     "output_type": "execute_result"
    }
   ],
   "source": [
    "res.fetchall()"
   ]
  }
 ],
 "metadata": {
  "kernelspec": {
   "display_name": "Python 3.8.9 64-bit",
   "language": "python",
   "name": "python3"
  },
  "language_info": {
   "codemirror_mode": {
    "name": "ipython",
    "version": 3
   },
   "file_extension": ".py",
   "mimetype": "text/x-python",
   "name": "python",
   "nbconvert_exporter": "python",
   "pygments_lexer": "ipython3",
   "version": "3.8.9"
  },
  "vscode": {
   "interpreter": {
    "hash": "31f2aee4e71d21fbe5cf8b01ff0e069b9275f58929596ceb00d14d90e3e16cd6"
   }
  }
 },
 "nbformat": 4,
 "nbformat_minor": 5
}

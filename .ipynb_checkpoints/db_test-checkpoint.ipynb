{
 "cells": [
  {
   "cell_type": "code",
   "execution_count": 56,
   "id": "c0f7911a-0ebb-494e-a897-18b5741b6a19",
   "metadata": {},
   "outputs": [
    {
     "data": {
      "text/plain": [
       "True"
      ]
     },
     "execution_count": 56,
     "metadata": {},
     "output_type": "execute_result"
    }
   ],
   "source": [
    "import psycopg2\n",
    "from dotenv import load_dotenv\n",
    "import os\n",
    "import pandas as pd\n",
    "load_dotenv()  # take environment variables from .env."
   ]
  },
  {
   "cell_type": "markdown",
   "id": "d813b048-f02a-4db1-a27c-8288b8ed3114",
   "metadata": {},
   "source": [
    "## Establish Connection"
   ]
  },
  {
   "cell_type": "code",
   "execution_count": 51,
   "id": "eca1e8d7-84e4-4034-b9a2-5ae2eec246ef",
   "metadata": {},
   "outputs": [],
   "source": [
    "DB_USER = os.environ.get(\"DB_USER\")\n",
    "DB_PASS = os.environ.get(\"DB_PASS\")\n",
    "DB_HOST = os.environ.get(\"DB_HOST\")\n",
    "DB_PORT = os.environ.get(\"DB_PORT\")\n",
    "DB_NAME = os.environ.get(\"DB_NAME\")"
   ]
  },
  {
   "cell_type": "code",
   "execution_count": 80,
   "id": "3bdcc7ef-eef3-49e8-bcbc-d1edfadb65c5",
   "metadata": {},
   "outputs": [],
   "source": [
    "conn = psycopg2.connect(host=DB_HOST, database=DB_NAME, user=DB_USER, password=DB_PASS)"
   ]
  },
  {
   "cell_type": "code",
   "execution_count": 81,
   "id": "fe3d45b3-1f61-4cc3-a069-b0784e15c38f",
   "metadata": {},
   "outputs": [],
   "source": [
    "cur = conn.cursor()"
   ]
  },
  {
   "cell_type": "markdown",
   "id": "ae99e81a-56f4-403a-9515-dc42263a3700",
   "metadata": {},
   "source": [
    "## Get All Builds"
   ]
  },
  {
   "cell_type": "code",
   "execution_count": 82,
   "id": "84240591-64c5-44a8-8142-f0eae98d8baf",
   "metadata": {},
   "outputs": [],
   "source": [
    "cur.execute(\"\"\"SELECT * FROM builds\"\"\")"
   ]
  },
  {
   "cell_type": "code",
   "execution_count": 83,
   "id": "05a885f0-6baa-4a23-a508-62afb17e684b",
   "metadata": {},
   "outputs": [],
   "source": [
    "cols = [desc[0] for desc in cur.description]\n",
    "data = cur.fetchall()"
   ]
  },
  {
   "cell_type": "code",
   "execution_count": 84,
   "id": "8c0250c9-94a9-45d1-ad67-1f169fdf2c19",
   "metadata": {},
   "outputs": [
    {
     "data": {
      "text/html": [
       "<div>\n",
       "<style scoped>\n",
       "    .dataframe tbody tr th:only-of-type {\n",
       "        vertical-align: middle;\n",
       "    }\n",
       "\n",
       "    .dataframe tbody tr th {\n",
       "        vertical-align: top;\n",
       "    }\n",
       "\n",
       "    .dataframe thead th {\n",
       "        text-align: right;\n",
       "    }\n",
       "</style>\n",
       "<table border=\"1\" class=\"dataframe\">\n",
       "  <thead>\n",
       "    <tr style=\"text-align: right;\">\n",
       "      <th></th>\n",
       "      <th>build_id</th>\n",
       "      <th>customer</th>\n",
       "      <th>material_type</th>\n",
       "      <th>hatch_distance</th>\n",
       "      <th>num_of_layers</th>\n",
       "      <th>layer_thickness</th>\n",
       "      <th>build_time</th>\n",
       "      <th>max_build_height</th>\n",
       "      <th>scan_speed</th>\n",
       "      <th>wire_cut</th>\n",
       "      <th>heat_treat</th>\n",
       "      <th>build_cost</th>\n",
       "      <th>total_cost</th>\n",
       "    </tr>\n",
       "  </thead>\n",
       "  <tbody>\n",
       "    <tr>\n",
       "      <th>0</th>\n",
       "      <td>1667295786863</td>\n",
       "      <td>Sanzhar</td>\n",
       "      <td>ss316l</td>\n",
       "      <td>18.0</td>\n",
       "      <td>300</td>\n",
       "      <td>0.00003</td>\n",
       "      <td>20.0</td>\n",
       "      <td>20.0</td>\n",
       "      <td>300.0</td>\n",
       "      <td>true</td>\n",
       "      <td>true</td>\n",
       "      <td>1.487681e+06</td>\n",
       "      <td>1.487681e+06</td>\n",
       "    </tr>\n",
       "  </tbody>\n",
       "</table>\n",
       "</div>"
      ],
      "text/plain": [
       "        build_id customer material_type  hatch_distance  num_of_layers  \\\n",
       "0  1667295786863  Sanzhar        ss316l            18.0            300   \n",
       "\n",
       "   layer_thickness  build_time  max_build_height  scan_speed wire_cut  \\\n",
       "0          0.00003        20.0              20.0       300.0     true   \n",
       "\n",
       "  heat_treat    build_cost    total_cost  \n",
       "0       true  1.487681e+06  1.487681e+06  "
      ]
     },
     "execution_count": 84,
     "metadata": {},
     "output_type": "execute_result"
    }
   ],
   "source": [
    "builds = pd.DataFrame(data, columns=cols)\n",
    "builds"
   ]
  },
  {
   "cell_type": "markdown",
   "id": "bc49a75b-2331-44f4-b0f4-2ba9b51a9c6e",
   "metadata": {},
   "source": [
    "## Get All Parts"
   ]
  },
  {
   "cell_type": "code",
   "execution_count": 85,
   "id": "b841dd3b-b49a-4d5f-9dce-0902aa06fc1b",
   "metadata": {},
   "outputs": [],
   "source": [
    "cur.execute(\"\"\"SELECT * FROM parts\"\"\")"
   ]
  },
  {
   "cell_type": "code",
   "execution_count": 86,
   "id": "84ff6edd-19a3-48c3-9220-fca5c5a1c111",
   "metadata": {},
   "outputs": [],
   "source": [
    "cols = [desc[0] for desc in cur.description]\n",
    "data = cur.fetchall()"
   ]
  },
  {
   "cell_type": "code",
   "execution_count": 87,
   "id": "2dd9ecf6-fc8d-487d-8aa7-dbdb1c61a19f",
   "metadata": {},
   "outputs": [
    {
     "data": {
      "text/html": [
       "<div>\n",
       "<style scoped>\n",
       "    .dataframe tbody tr th:only-of-type {\n",
       "        vertical-align: middle;\n",
       "    }\n",
       "\n",
       "    .dataframe tbody tr th {\n",
       "        vertical-align: top;\n",
       "    }\n",
       "\n",
       "    .dataframe thead th {\n",
       "        text-align: right;\n",
       "    }\n",
       "</style>\n",
       "<table border=\"1\" class=\"dataframe\">\n",
       "  <thead>\n",
       "    <tr style=\"text-align: right;\">\n",
       "      <th></th>\n",
       "      <th>part_id</th>\n",
       "      <th>part_name</th>\n",
       "      <th>material_type</th>\n",
       "      <th>number_of_parts</th>\n",
       "      <th>part_volume</th>\n",
       "      <th>support_volume</th>\n",
       "      <th>surface_area</th>\n",
       "      <th>box_volume</th>\n",
       "      <th>part_cost</th>\n",
       "      <th>build_id</th>\n",
       "    </tr>\n",
       "  </thead>\n",
       "  <tbody>\n",
       "    <tr>\n",
       "      <th>0</th>\n",
       "      <td>3</td>\n",
       "      <td>Car emblem</td>\n",
       "      <td>ss316l</td>\n",
       "      <td>10</td>\n",
       "      <td>1000.0</td>\n",
       "      <td>100.0</td>\n",
       "      <td>20.0</td>\n",
       "      <td>10.0</td>\n",
       "      <td>1.487681e+06</td>\n",
       "      <td>1667295786863</td>\n",
       "    </tr>\n",
       "  </tbody>\n",
       "</table>\n",
       "</div>"
      ],
      "text/plain": [
       "   part_id   part_name material_type  number_of_parts  part_volume  \\\n",
       "0        3  Car emblem        ss316l               10       1000.0   \n",
       "\n",
       "   support_volume  surface_area  box_volume     part_cost       build_id  \n",
       "0           100.0          20.0        10.0  1.487681e+06  1667295786863  "
      ]
     },
     "execution_count": 87,
     "metadata": {},
     "output_type": "execute_result"
    }
   ],
   "source": [
    "parts = pd.DataFrame(data, columns=cols)\n",
    "parts"
   ]
  },
  {
   "cell_type": "markdown",
   "id": "4bd62e72-049c-49fa-a8ce-1eebd0e22527",
   "metadata": {},
   "source": [
    "## Get All Builds and Parts"
   ]
  },
  {
   "cell_type": "code",
   "execution_count": 88,
   "id": "94bd771b-9be8-4632-9949-4fb389f86ded",
   "metadata": {},
   "outputs": [],
   "source": [
    "cur.execute(\"\"\"SELECT * FROM parts as p JOIN builds as b ON p.build_id = b.build_id ORDER BY b.build_id \"\"\")"
   ]
  },
  {
   "cell_type": "code",
   "execution_count": 89,
   "id": "1e0c6ffe-014a-45a4-909d-c68a37d1abb0",
   "metadata": {},
   "outputs": [],
   "source": [
    "cols = [desc[0] for desc in cur.description]\n",
    "data = cur.fetchall()"
   ]
  },
  {
   "cell_type": "code",
   "execution_count": 90,
   "id": "51d5127b-626f-4e28-9bd9-2eeabfbc8697",
   "metadata": {},
   "outputs": [
    {
     "data": {
      "text/html": [
       "<div>\n",
       "<style scoped>\n",
       "    .dataframe tbody tr th:only-of-type {\n",
       "        vertical-align: middle;\n",
       "    }\n",
       "\n",
       "    .dataframe tbody tr th {\n",
       "        vertical-align: top;\n",
       "    }\n",
       "\n",
       "    .dataframe thead th {\n",
       "        text-align: right;\n",
       "    }\n",
       "</style>\n",
       "<table border=\"1\" class=\"dataframe\">\n",
       "  <thead>\n",
       "    <tr style=\"text-align: right;\">\n",
       "      <th></th>\n",
       "      <th>part_id</th>\n",
       "      <th>part_name</th>\n",
       "      <th>material_type</th>\n",
       "      <th>number_of_parts</th>\n",
       "      <th>part_volume</th>\n",
       "      <th>support_volume</th>\n",
       "      <th>surface_area</th>\n",
       "      <th>box_volume</th>\n",
       "      <th>part_cost</th>\n",
       "      <th>build_id</th>\n",
       "      <th>...</th>\n",
       "      <th>hatch_distance</th>\n",
       "      <th>num_of_layers</th>\n",
       "      <th>layer_thickness</th>\n",
       "      <th>build_time</th>\n",
       "      <th>max_build_height</th>\n",
       "      <th>scan_speed</th>\n",
       "      <th>wire_cut</th>\n",
       "      <th>heat_treat</th>\n",
       "      <th>build_cost</th>\n",
       "      <th>total_cost</th>\n",
       "    </tr>\n",
       "  </thead>\n",
       "  <tbody>\n",
       "    <tr>\n",
       "      <th>0</th>\n",
       "      <td>3</td>\n",
       "      <td>Car emblem</td>\n",
       "      <td>ss316l</td>\n",
       "      <td>10</td>\n",
       "      <td>1000.0</td>\n",
       "      <td>100.0</td>\n",
       "      <td>20.0</td>\n",
       "      <td>10.0</td>\n",
       "      <td>1.487681e+06</td>\n",
       "      <td>1667295786863</td>\n",
       "      <td>...</td>\n",
       "      <td>18.0</td>\n",
       "      <td>300</td>\n",
       "      <td>0.00003</td>\n",
       "      <td>20.0</td>\n",
       "      <td>20.0</td>\n",
       "      <td>300.0</td>\n",
       "      <td>true</td>\n",
       "      <td>true</td>\n",
       "      <td>1.487681e+06</td>\n",
       "      <td>1.487681e+06</td>\n",
       "    </tr>\n",
       "  </tbody>\n",
       "</table>\n",
       "<p>1 rows × 23 columns</p>\n",
       "</div>"
      ],
      "text/plain": [
       "   part_id   part_name material_type  number_of_parts  part_volume  \\\n",
       "0        3  Car emblem        ss316l               10       1000.0   \n",
       "\n",
       "   support_volume  surface_area  box_volume     part_cost       build_id  ...  \\\n",
       "0           100.0          20.0        10.0  1.487681e+06  1667295786863  ...   \n",
       "\n",
       "   hatch_distance num_of_layers layer_thickness  build_time  max_build_height  \\\n",
       "0            18.0           300         0.00003        20.0              20.0   \n",
       "\n",
       "   scan_speed  wire_cut  heat_treat    build_cost    total_cost  \n",
       "0       300.0      true        true  1.487681e+06  1.487681e+06  \n",
       "\n",
       "[1 rows x 23 columns]"
      ]
     },
     "execution_count": 90,
     "metadata": {},
     "output_type": "execute_result"
    }
   ],
   "source": [
    "parts_and_builds = pd.DataFrame(data, columns=cols)\n",
    "parts_and_builds"
   ]
  },
  {
   "cell_type": "markdown",
   "id": "30259597-c36c-4467-aa17-64b040af3fb3",
   "metadata": {},
   "source": [
    "## Close Connection"
   ]
  },
  {
   "cell_type": "code",
   "execution_count": 22,
   "id": "5b8ecc77-3205-4461-8069-dd0f26422605",
   "metadata": {},
   "outputs": [],
   "source": [
    "conn.close()"
   ]
  }
 ],
 "metadata": {
  "kernelspec": {
   "display_name": "Python 3",
   "language": "python",
   "name": "python3"
  },
  "language_info": {
   "codemirror_mode": {
    "name": "ipython",
    "version": 3
   },
   "file_extension": ".py",
   "mimetype": "text/x-python",
   "name": "python",
   "nbconvert_exporter": "python",
   "pygments_lexer": "ipython3",
   "version": "3.9.7"
  },
  "vscode": {
   "interpreter": {
    "hash": "31f2aee4e71d21fbe5cf8b01ff0e069b9275f58929596ceb00d14d90e3e16cd6"
   }
  }
 },
 "nbformat": 4,
 "nbformat_minor": 5
}

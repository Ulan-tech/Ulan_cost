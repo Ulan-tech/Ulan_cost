{
 "cells": [
  {
   "cell_type": "code",
   "execution_count": null,
   "id": "2cce40f5-1521-40e5-b26b-8b61ccc01549",
   "metadata": {},
   "outputs": [],
   "source": [
    "import sqlite3\n",
    "import pandas as pd\n",
    "import numpy as np"
   ]
  },
  {
   "cell_type": "code",
   "execution_count": null,
   "id": "0a286523-9ece-4fb0-8f3d-7bec904d6984",
   "metadata": {},
   "outputs": [],
   "source": [
    "sheet_id = \"1JiSep_Fyxb_zrSbdvS5DtdPvPXvIE5BzTZQH-4FRm6k\"\n",
    "sheet_name = \"Games\"\n",
    "url = f\"https://docs.google.com/spreadsheets/d/{sheet_id}/gviz/tq?tqx=out:csv&sheet={sheet_name}\""
   ]
  },
  {
   "cell_type": "code",
   "execution_count": null,
   "id": "da2ef400-bc15-494b-8b7e-d637de02dbfb",
   "metadata": {},
   "outputs": [],
   "source": [
    "test = pd.read_csv(url)"
   ]
  },
  {
   "cell_type": "code",
   "execution_count": null,
   "id": "2086f50b-cf1e-4bd6-a10d-a2cbb7d68657",
   "metadata": {},
   "outputs": [],
   "source": [
    "test"
   ]
  },
  {
   "cell_type": "markdown",
   "id": "a9701883-a5b5-4c9d-bcba-676a3d5c5b1f",
   "metadata": {
    "tags": []
   },
   "source": [
    "### Connect to SQLite"
   ]
  },
  {
   "cell_type": "code",
   "execution_count": null,
   "id": "bcf57b5e-6514-402d-895b-f948433a365c",
   "metadata": {},
   "outputs": [],
   "source": [
    "con = sqlite3.connect(\"seoul_nomads.sqlite\")\n",
    "cur = con.cursor()"
   ]
  },
  {
   "cell_type": "markdown",
   "id": "7068f635-1e3a-4f44-969a-c855fedef8a8",
   "metadata": {},
   "source": [
    "### Load file"
   ]
  },
  {
   "cell_type": "code",
   "execution_count": null,
   "id": "c9199af8-7672-46e2-a0be-0ecc22651d63",
   "metadata": {},
   "outputs": [],
   "source": [
    "df = pd.read_excel(\"/Users/fairlabs/Downloads/Stats (4).xlsx\", sheet_name=\"Games\")"
   ]
  },
  {
   "cell_type": "code",
   "execution_count": null,
   "id": "98b8a77c-a2b7-4424-8369-c632763f60cb",
   "metadata": {},
   "outputs": [],
   "source": [
    "def get_overall_games(df):\n",
    "    idxs = get_indexes(df)\n",
    "    game_dfs = []\n",
    "    for i in range(len(idxs)-1):\n",
    "        games = get_games(df, idxs[i], idxs[i+1])\n",
    "        game_part = get_game_part(df, idxs[i])\n",
    "        game_day = get_game_day(df, idxs[i])\n",
    "        game_stats = get_game_stats(games, game_day, game_part)\n",
    "        game_dfs.extend(game_stats)\n",
    "    return game_dfs"
   ]
  },
  {
   "cell_type": "code",
   "execution_count": null,
   "id": "4b0cf037-fb66-4be4-830f-6b0267fba656",
   "metadata": {},
   "outputs": [],
   "source": [
    "ovrl_gms = get_overall_games(df)"
   ]
  },
  {
   "cell_type": "code",
   "execution_count": null,
   "id": "76585e37-b7d6-4dcf-97a0-0e9bc6c802d4",
   "metadata": {},
   "outputs": [],
   "source": [
    "def get_overall_players(df):\n",
    "    idxs = get_indexes(df)\n",
    "    player_dfs = []\n",
    "    for i in range(len(idxs)-1):\n",
    "        teams = get_teams(df, idxs[i])\n",
    "        game_part = get_game_part(df, idxs[i])\n",
    "        game_day = get_game_day(df, idxs[i])\n",
    "        players = get_players(teams, game_day, game_part)\n",
    "        player_dfs.extend(players)\n",
    "    return player_dfs"
   ]
  },
  {
   "cell_type": "code",
   "execution_count": null,
   "id": "760dbd5d-4240-4cbe-98c8-f67eef8984e2",
   "metadata": {},
   "outputs": [],
   "source": [
    "ovrl_pls = get_overall_players(df)"
   ]
  },
  {
   "cell_type": "markdown",
   "id": "7260dace-56ad-4b9b-a269-86b78bf77b4b",
   "metadata": {},
   "source": [
    "### Create Tables"
   ]
  },
  {
   "cell_type": "code",
   "execution_count": null,
   "id": "6542c4f4-890d-4592-9b54-6fe0ca35e217",
   "metadata": {},
   "outputs": [],
   "source": [
    "cur.execute(\"\"\"CREATE TABLE \n",
    "                players(\n",
    "                    date varchar, \n",
    "                    game_part int, \n",
    "                    name varchar, \n",
    "                    team varchar, \n",
    "                    captain integer)\"\"\")"
   ]
  },
  {
   "cell_type": "code",
   "execution_count": null,
   "id": "474208ce-0263-4969-8496-c12bc2efb721",
   "metadata": {},
   "outputs": [],
   "source": [
    "cur.execute(\"\"\"CREATE TABLE \n",
    "                games(\n",
    "                    date varchar, \n",
    "                    game_part int, \n",
    "                    game_number int, \n",
    "                    team varchar, \n",
    "                    win integer, \n",
    "                    draw integer, \n",
    "                    lose integer, \n",
    "                    goal_difference integer, \n",
    "                    goals_scored integer, \n",
    "                    goals_conceded integer)\"\"\")"
   ]
  },
  {
   "cell_type": "markdown",
   "id": "1944acd7-42d6-44ca-9a7e-302f62919d51",
   "metadata": {},
   "source": [
    "### Insert to DB"
   ]
  },
  {
   "cell_type": "code",
   "execution_count": null,
   "id": "92d1891b-269e-4588-90cc-8c5b6b0a1046",
   "metadata": {},
   "outputs": [],
   "source": [
    "def insert_games(games):\n",
    "    for game in games:\n",
    "        q = f\"\"\"INSERT INTO games(date, game_part, game_number, team, win, draw, lose, goal_difference, goals_scored, goals_conceded) VALUES('{(game[0])}',{game[1]},{game[2]},'{game[3]}',{game[4]},{game[5]},{game[6]},{game[7]},{game[8]},{game[9]})\"\"\"\n",
    "        cur.execute(q)"
   ]
  },
  {
   "cell_type": "code",
   "execution_count": null,
   "id": "ec87b083-fb67-46c5-8684-a4e0084dbd05",
   "metadata": {},
   "outputs": [],
   "source": [
    "insert_games(ovrl_gms)"
   ]
  },
  {
   "cell_type": "code",
   "execution_count": null,
   "id": "135abed0-3757-4507-9169-747548023b8d",
   "metadata": {},
   "outputs": [],
   "source": [
    "def insert_players(players):\n",
    "    for player in players:\n",
    "        q = f\"\"\"INSERT INTO players(date, game_part, name, team, captain) VALUES('{(player[0])}', {player[1]},'{player[2]}','{player[3]}',{player[4]})\"\"\"\n",
    "        cur.execute(q)"
   ]
  },
  {
   "cell_type": "code",
   "execution_count": null,
   "id": "6f385276-58bc-47ee-9de2-8f937e9052fc",
   "metadata": {},
   "outputs": [],
   "source": [
    "insert_players(ovrl_pls)"
   ]
  },
  {
   "cell_type": "markdown",
   "id": "817caff2-8aea-4669-ad9d-47b7cdd0d717",
   "metadata": {},
   "source": [
    "### Delete from DB"
   ]
  },
  {
   "cell_type": "code",
   "execution_count": null,
   "id": "bb554b40-bc22-49ce-a71c-4f5216233863",
   "metadata": {},
   "outputs": [],
   "source": [
    "cur.execute(\"DELETE FROM games\")\n",
    "cur.fetchall()"
   ]
  },
  {
   "cell_type": "code",
   "execution_count": null,
   "id": "60fd2304-b391-4dcc-956c-1e3a0bf6a10c",
   "metadata": {},
   "outputs": [],
   "source": [
    "def get_player_names():\n",
    "    q = \"SELECT p.name FROM players as p JOIN games as g ON p.team = g.team and p.date = g.date and p.game_part=g.game_part GROUP BY p.name having count(*) > 50\"\n",
    "    cur.execute(q)\n",
    "    res = cur.fetchall()\n",
    "    player_names = list(map(lambda x: x[0], res))\n",
    "    return player_names"
   ]
  },
  {
   "cell_type": "code",
   "execution_count": null,
   "id": "e88ddea6-909b-4f18-908a-45b4cdbe8792",
   "metadata": {},
   "outputs": [],
   "source": [
    "player_names = get_player_names()"
   ]
  },
  {
   "cell_type": "code",
   "execution_count": null,
   "id": "c87e8690-ab32-48ac-b52a-ffc07618eb84",
   "metadata": {},
   "outputs": [],
   "source": [
    "def get_overall_stats(player_names):\n",
    "    overall_stats = []\n",
    "    for player_name in player_names:\n",
    "        q = f\"\"\"SELECT \n",
    "                    name as Name, \n",
    "                    1.0*sum(win*3+draw)/count(*) as Pts/G,\n",
    "                    1.0*sum(goal_difference)/count(*) as GD/G, \n",
    "                    1.0*sum(goals_scored)/count(*) as GF/G, \n",
    "                    1.0*sum(goals_conceded)/count(*) as GA/G, \n",
    "                    count(*) as Games\n",
    "                FROM \n",
    "                    (SELECT \n",
    "                        * \n",
    "                    FROM \n",
    "                        players as p \n",
    "                    JOIN \n",
    "                        games as g \n",
    "\n",
    "                    ON p.team = g.team \n",
    "                        and \n",
    "                        p.date = g.date \n",
    "                        and \n",
    "                        p.game_part=g.game_part \n",
    "                    WHERE \n",
    "                        p.name = '{player_name}' \n",
    "                    ORDER BY \n",
    "                        g.date desc, g.game_part desc, g.game_number desc limit 50)\"\"\"\n",
    "        cur.execute(q)\n",
    "        res = cur.fetchall()\n",
    "        overall_stats.extend(res)\n",
    "    return overall_stats"
   ]
  },
  {
   "cell_type": "code",
   "execution_count": null,
   "id": "d14403b4-2693-4a12-9f6f-6cb6aac8cf04",
   "metadata": {},
   "outputs": [],
   "source": [
    "res = get_overall_stats(player_names)"
   ]
  },
  {
   "cell_type": "markdown",
   "id": "1012ab51-3362-45f4-b3e0-5ef8ea79654e",
   "metadata": {},
   "source": [
    "### Get Overall Stats"
   ]
  },
  {
   "cell_type": "code",
   "execution_count": null,
   "id": "4b3716d2-fc83-4e77-b28b-89d58a19bc2b",
   "metadata": {},
   "outputs": [],
   "source": [
    "stats = pd.DataFrame(res)"
   ]
  },
  {
   "cell_type": "code",
   "execution_count": null,
   "id": "4c8de578-3a48-42af-8091-e40e49fc9ba2",
   "metadata": {},
   "outputs": [],
   "source": [
    "stats.sort_values(by=[1, 2], ascending=False).reset_index(drop=True)"
   ]
  },
  {
   "cell_type": "code",
   "execution_count": null,
   "id": "e67d80dc-1d32-43bd-a0d3-aa4eae79c964",
   "metadata": {},
   "outputs": [],
   "source": [
    "def get_indexes(df):\n",
    "    idxs = df[df['Unnamed: 1'].str.find(\"Game\") == 0].index.tolist() + [df.shape[0] - 1]\n",
    "    return idxs"
   ]
  },
  {
   "cell_type": "code",
   "execution_count": null,
   "id": "9532ccaa-85a4-4bba-bb40-0a209c5f133c",
   "metadata": {},
   "outputs": [],
   "source": [
    "def get_games(df, start, end):\n",
    "    games = df.loc[start+1:end- 1,\"Unnamed: 2\":\"Unnamed: 5\"]\n",
    "    games.dropna(axis=0, how='all', inplace=True)\n",
    "    # games.drop(columns=['Unnamed: 2'], inplace=True)\n",
    "    headers = ['game_number'] + games.iloc[0].tolist()[1:]\n",
    "    games = pd.DataFrame(games.values[1:], columns=headers)\n",
    "    return games"
   ]
  },
  {
   "cell_type": "code",
   "execution_count": null,
   "id": "4f7f483e-c9e2-4068-95c9-2a088f15bd8b",
   "metadata": {},
   "outputs": [],
   "source": [
    "def get_game_part(df, start):\n",
    "    if df.loc[start+1,\"Unnamed: 12\"] is not np.nan:\n",
    "        game_part = df.loc[start+1,\"Unnamed: 12\"].split(' ')[1]\n",
    "    else:\n",
    "        game_part = 1\n",
    "    return int(game_part)"
   ]
  },
  {
   "cell_type": "code",
   "execution_count": null,
   "id": "8804dc5b-3885-40dd-bf72-2b3c6b52cde7",
   "metadata": {},
   "outputs": [],
   "source": [
    "def get_game_day(df, start):\n",
    "    game_day = df.loc[start, 'Unnamed: 1'].split(' ')[1]\n",
    "    game_day_reversed = game_day.split('.')[2] + '.' + game_day.split('.')[1] + '.' + game_day.split('.')[0]\n",
    "    return game_day_reversed"
   ]
  },
  {
   "cell_type": "code",
   "execution_count": null,
   "id": "32babac4-f030-4458-a1d9-780cad5b6dce",
   "metadata": {},
   "outputs": [],
   "source": [
    "def get_game_stats(games, game_day, game_part): \n",
    "    game_stats =[]\n",
    "    for idx, row in games.iterrows():\n",
    "        if row['Blue'] is np.nan:\n",
    "            team_1 = (game_day, game_part, row['game_number'], 'Orange', 1 if row['Orange'] > row['Green'] else 0, 1 if row['Orange'] == row['Green'] else 0, 1 if row['Orange'] < row['Green'] else 0, row['Orange'] - row['Green'], row['Orange'], row['Green'])\n",
    "            team_2 = (game_day, game_part, row['game_number'], 'Green', 1 if row['Orange'] < row['Green'] else 0, 1 if row['Orange'] == row['Green'] else 0, 1 if row['Orange'] > row['Green'] else 0, row['Green'] - row['Orange'], row['Green'], row['Orange'])\n",
    "            game_stats.append(team_1)\n",
    "            game_stats.append(team_2)\n",
    "        if row['Orange'] is np.nan:\n",
    "            team_1 = (game_day, game_part, row['game_number'], 'Blue', 1 if row['Blue'] > row['Green'] else 0, 1 if row['Blue'] == row['Green'] else 0, 1 if row['Blue'] < row['Green'] else 0, row['Blue'] - row['Green'], row['Blue'], row['Green'])\n",
    "            team_2 = (game_day, game_part, row['game_number'], 'Green', 1 if row['Blue'] < row['Green'] else 0, 1 if row['Blue'] == row['Green'] else 0, 1 if row['Blue'] > row['Green'] else 0, row['Green'] - row['Blue'], row['Green'], row['Blue'])\n",
    "            game_stats.append(team_1)\n",
    "            game_stats.append(team_2)\n",
    "        if row['Green'] is np.nan:\n",
    "            team_1 = (game_day, game_part, row['game_number'], 'Blue', 1 if row['Blue'] > row['Orange'] else 0, 1 if row['Blue'] == row['Orange'] else 0, 1 if row['Blue'] < row['Orange'] else 0, row['Blue'] - row['Orange'], row['Blue'], row['Orange'])\n",
    "            team_2 = (game_day, game_part, row['game_number'], 'Orange', 1 if row['Blue'] < row['Orange'] else 0, 1 if row['Blue'] == row['Orange'] else 0, 1 if row['Blue'] > row['Orange'] else 0, row['Orange'] - row['Blue'], row['Orange'], row['Blue'])\n",
    "            game_stats.append(team_1)\n",
    "            game_stats.append(team_2)\n",
    "    return game_stats"
   ]
  },
  {
   "cell_type": "code",
   "execution_count": null,
   "id": "d7dbe869-a7bb-44d8-a021-cca70dd779cb",
   "metadata": {},
   "outputs": [],
   "source": [
    "def get_points(game_stats):\n",
    "    points = pd.DataFrame(game_stats)\n",
    "    points = points.groupby(2).sum()\n",
    "    return points"
   ]
  },
  {
   "cell_type": "code",
   "execution_count": null,
   "id": "024f482c-0d59-4100-ba6d-8fc6ff3c826e",
   "metadata": {},
   "outputs": [],
   "source": [
    "def get_teams(df, start):\n",
    "    teams = df.loc[start+2:start+7,\"Unnamed: 7\":\"Unnamed: 9\"]\n",
    "    headers = teams.iloc[0].tolist()\n",
    "    teams  = pd.DataFrame(teams.values[1:], columns=headers)\n",
    "    return teams"
   ]
  },
  {
   "cell_type": "code",
   "execution_count": null,
   "id": "1c63f8a4-c90c-4a37-acce-253472a04463",
   "metadata": {},
   "outputs": [],
   "source": [
    "def get_players(teams, game_day, game_part):\n",
    "    players = []\n",
    "    for team_color in teams.columns:\n",
    "        for player in teams[team_color]:\n",
    "            if player is not np.nan:\n",
    "                player_info = (game_day, game_part, player[:-4] if player.endswith('(c)') else player, team_color, 1 if player.endswith('(c)') else 0)\n",
    "                players.append(player_info)\n",
    "    return players"
   ]
  }
 ],
 "metadata": {
  "kernelspec": {
   "display_name": "Python 3",
   "language": "python",
   "name": "python3"
  },
  "language_info": {
   "codemirror_mode": {
    "name": "ipython",
    "version": 3
   },
   "file_extension": ".py",
   "mimetype": "text/x-python",
   "name": "python",
   "nbconvert_exporter": "python",
   "pygments_lexer": "ipython3",
   "version": "3.9.7"
  }
 },
 "nbformat": 4,
 "nbformat_minor": 5
}
